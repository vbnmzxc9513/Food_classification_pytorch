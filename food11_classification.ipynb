{
 "cells": [
  {
   "cell_type": "markdown",
   "metadata": {},
   "source": [
    "# skewed dataset CNN machine learning"
   ]
  },
  {
   "cell_type": "code",
   "execution_count": 1,
   "metadata": {},
   "outputs": [],
   "source": [
    "import torch\n",
    "import torchvision\n",
    "import torchvision.transforms as transforms\n",
    "import torch.nn as nn\n",
    "import torchvision.models as models\n",
    "import torch.optim as optim\n",
    "import numpy as np"
   ]
  },
  {
   "cell_type": "markdown",
   "metadata": {},
   "source": [
    "Check gpu"
   ]
  },
  {
   "cell_type": "code",
   "execution_count": 2,
   "metadata": {},
   "outputs": [
    {
     "name": "stdout",
     "output_type": "stream",
     "text": [
      "==> Check devices..\n",
      "Current device:  cuda\n",
      "Our selected device:  0\n",
      "1  GPUs is available\n"
     ]
    }
   ],
   "source": [
    "#To determine if your system supports CUDA\n",
    "print(\"==> Check devices..\")\n",
    "device = 'cuda' if torch.cuda.is_available() else 'cpu'\n",
    "print(\"Current device: \",device)\n",
    "\n",
    "#Also can print your current GPU id, and the number of GPUs you can use.\n",
    "print(\"Our selected device: \", torch.cuda.current_device())\n",
    "print(torch.cuda.device_count(), \" GPUs is available\")"
   ]
  },
  {
   "cell_type": "markdown",
   "metadata": {},
   "source": [
    "Define transformation function"
   ]
  },
  {
   "cell_type": "code",
   "execution_count": 3,
   "metadata": {},
   "outputs": [],
   "source": [
    "#The transform function for train data\n",
    "transform_train = transforms.Compose([\n",
    "    transforms.Resize(144),\n",
    "    transforms.RandomHorizontalFlip(),\n",
    "    transforms.ToTensor(),\n",
    "    transforms.Normalize([0.485, 0.456, 0.406], [0.229, 0.224, 0.225]),\n",
    "])\n",
    "\n",
    "#The transform function for validation data\n",
    "transform_validation = transforms.Compose([\n",
    "    transforms.Resize(144),\n",
    "    transforms.ToTensor(),\n",
    "    transforms.Normalize([0.485, 0.456, 0.406], [0.229, 0.224, 0.225]),\n",
    "])\n",
    "\n",
    "#The transform function for test data\n",
    "transform_test = transforms.Compose([\n",
    "    transforms.Resize(144),\n",
    "    transforms.ToTensor(),\n",
    "    transforms.Normalize([0.485, 0.456, 0.406], [0.229, 0.224, 0.225]),\n",
    "])"
   ]
  },
  {
   "cell_type": "markdown",
   "metadata": {},
   "source": [
    "Load dataset"
   ]
  },
  {
   "cell_type": "code",
   "execution_count": 4,
   "metadata": {},
   "outputs": [],
   "source": [
    "#Use API to load train dataset\n",
    "trainset = torchvision.datasets.ImageFolder(root = r'./training' ,transform=transform_train)\n",
    "\n",
    "#Use API to load validation dataset\n",
    "validationset = torchvision.datasets.ImageFolder(root = r'./validation' ,transform=transform_validation)\n",
    "\n",
    "#Use API to load evaluation dataset\n",
    "testset = torchvision.datasets.ImageFolder(root = r'./evaluation' ,transform=transform_test)\n",
    "\n",
    "trainloader = torch.utils.data.DataLoader(trainset, batch_size=32, shuffle=True)\n",
    "\n",
    "validationloader = torch.utils.data.DataLoader(validationset, batch_size=64, shuffle=False)\n",
    "\n",
    "testloader = torch.utils.data.DataLoader(testset, batch_size=64, shuffle=False)\n",
    "classes = ('class0', 'class1', 'class10', 'class2', 'class3', 'class4', 'class5', 'class6', 'class7', 'class8', 'class9')"
   ]
  },
  {
   "cell_type": "markdown",
   "metadata": {},
   "source": [
    "Define Network"
   ]
  },
  {
   "cell_type": "code",
   "execution_count": 5,
   "metadata": {},
   "outputs": [],
   "source": [
    "def reload_net():\n",
    "    trainednet = models.vgg16_bn(pretrained=True)  \n",
    "    trainednet.fc = torch.nn.Linear(1000, 11)  \n",
    "    trainednet.fc = nn.Sequential(nn.Linear(1000,512),nn.LeakyReLU(),nn.Linear(512,256),nn.LeakyReLU(),nn.Linear(256,11))\n",
    "    trainednet.load_state_dict(torch.load('./vgg16/34.pth'))\n",
    "    return trainednet"
   ]
  },
  {
   "cell_type": "code",
   "execution_count": 6,
   "metadata": {
    "collapsed": true
   },
   "outputs": [
    {
     "name": "stdout",
     "output_type": "stream",
     "text": [
      "VGG(\n",
      "  (features): Sequential(\n",
      "    (0): Conv2d(3, 64, kernel_size=(3, 3), stride=(1, 1), padding=(1, 1))\n",
      "    (1): BatchNorm2d(64, eps=1e-05, momentum=0.1, affine=True, track_running_stats=True)\n",
      "    (2): ReLU(inplace=True)\n",
      "    (3): Conv2d(64, 64, kernel_size=(3, 3), stride=(1, 1), padding=(1, 1))\n",
      "    (4): BatchNorm2d(64, eps=1e-05, momentum=0.1, affine=True, track_running_stats=True)\n",
      "    (5): ReLU(inplace=True)\n",
      "    (6): MaxPool2d(kernel_size=2, stride=2, padding=0, dilation=1, ceil_mode=False)\n",
      "    (7): Conv2d(64, 128, kernel_size=(3, 3), stride=(1, 1), padding=(1, 1))\n",
      "    (8): BatchNorm2d(128, eps=1e-05, momentum=0.1, affine=True, track_running_stats=True)\n",
      "    (9): ReLU(inplace=True)\n",
      "    (10): Conv2d(128, 128, kernel_size=(3, 3), stride=(1, 1), padding=(1, 1))\n",
      "    (11): BatchNorm2d(128, eps=1e-05, momentum=0.1, affine=True, track_running_stats=True)\n",
      "    (12): ReLU(inplace=True)\n",
      "    (13): MaxPool2d(kernel_size=2, stride=2, padding=0, dilation=1, ceil_mode=False)\n",
      "    (14): Conv2d(128, 256, kernel_size=(3, 3), stride=(1, 1), padding=(1, 1))\n",
      "    (15): BatchNorm2d(256, eps=1e-05, momentum=0.1, affine=True, track_running_stats=True)\n",
      "    (16): ReLU(inplace=True)\n",
      "    (17): Conv2d(256, 256, kernel_size=(3, 3), stride=(1, 1), padding=(1, 1))\n",
      "    (18): BatchNorm2d(256, eps=1e-05, momentum=0.1, affine=True, track_running_stats=True)\n",
      "    (19): ReLU(inplace=True)\n",
      "    (20): Conv2d(256, 256, kernel_size=(3, 3), stride=(1, 1), padding=(1, 1))\n",
      "    (21): BatchNorm2d(256, eps=1e-05, momentum=0.1, affine=True, track_running_stats=True)\n",
      "    (22): ReLU(inplace=True)\n",
      "    (23): MaxPool2d(kernel_size=2, stride=2, padding=0, dilation=1, ceil_mode=False)\n",
      "    (24): Conv2d(256, 512, kernel_size=(3, 3), stride=(1, 1), padding=(1, 1))\n",
      "    (25): BatchNorm2d(512, eps=1e-05, momentum=0.1, affine=True, track_running_stats=True)\n",
      "    (26): ReLU(inplace=True)\n",
      "    (27): Conv2d(512, 512, kernel_size=(3, 3), stride=(1, 1), padding=(1, 1))\n",
      "    (28): BatchNorm2d(512, eps=1e-05, momentum=0.1, affine=True, track_running_stats=True)\n",
      "    (29): ReLU(inplace=True)\n",
      "    (30): Conv2d(512, 512, kernel_size=(3, 3), stride=(1, 1), padding=(1, 1))\n",
      "    (31): BatchNorm2d(512, eps=1e-05, momentum=0.1, affine=True, track_running_stats=True)\n",
      "    (32): ReLU(inplace=True)\n",
      "    (33): MaxPool2d(kernel_size=2, stride=2, padding=0, dilation=1, ceil_mode=False)\n",
      "    (34): Conv2d(512, 512, kernel_size=(3, 3), stride=(1, 1), padding=(1, 1))\n",
      "    (35): BatchNorm2d(512, eps=1e-05, momentum=0.1, affine=True, track_running_stats=True)\n",
      "    (36): ReLU(inplace=True)\n",
      "    (37): Conv2d(512, 512, kernel_size=(3, 3), stride=(1, 1), padding=(1, 1))\n",
      "    (38): BatchNorm2d(512, eps=1e-05, momentum=0.1, affine=True, track_running_stats=True)\n",
      "    (39): ReLU(inplace=True)\n",
      "    (40): Conv2d(512, 512, kernel_size=(3, 3), stride=(1, 1), padding=(1, 1))\n",
      "    (41): BatchNorm2d(512, eps=1e-05, momentum=0.1, affine=True, track_running_stats=True)\n",
      "    (42): ReLU(inplace=True)\n",
      "    (43): MaxPool2d(kernel_size=2, stride=2, padding=0, dilation=1, ceil_mode=False)\n",
      "  )\n",
      "  (avgpool): AdaptiveAvgPool2d(output_size=(7, 7))\n",
      "  (classifier): Sequential(\n",
      "    (0): Linear(in_features=25088, out_features=4096, bias=True)\n",
      "    (1): ReLU(inplace=True)\n",
      "    (2): Dropout(p=0.5, inplace=False)\n",
      "    (3): Linear(in_features=4096, out_features=4096, bias=True)\n",
      "    (4): ReLU(inplace=True)\n",
      "    (5): Dropout(p=0.5, inplace=False)\n",
      "    (6): Linear(in_features=4096, out_features=1000, bias=True)\n",
      "  )\n",
      "  (fc): Sequential(\n",
      "    (0): Linear(in_features=1000, out_features=512, bias=True)\n",
      "    (1): LeakyReLU(negative_slope=0.01)\n",
      "    (2): Linear(in_features=512, out_features=256, bias=True)\n",
      "    (3): LeakyReLU(negative_slope=0.01)\n",
      "    (4): Linear(in_features=256, out_features=11, bias=True)\n",
      "  )\n",
      ")\n"
     ]
    }
   ],
   "source": [
    "# vgg16_bn\n",
    "net = models.vgg16_bn(pretrained=True)\n",
    "#net.fc = nn.Linear(1000, 11)\n",
    "net.fc = nn.Sequential(nn.Linear(1000,512),nn.LeakyReLU(),nn.Linear(512,256),nn.LeakyReLU(),nn.Linear(256,11))\n",
    "net = net.to(device) \n",
    "#print(net)"
   ]
  },
  {
   "cell_type": "code",
   "execution_count": 7,
   "metadata": {},
   "outputs": [
    {
     "data": {
      "text/plain": [
       "'\\nfor param in net.parameters():\\n    param.requires_grad = False\\n\\nnet.classifier = nn.Sequential(nn.Linear(25088,4096),\\n                               nn.LeakyReLU(),\\n                               nn.Linear(4096,512),\\n                               nn.LeakyReLU(),\\n                               nn.Linear(512,128),\\n                               nn.LeakyReLU(),\\n                               nn.Linear(128,11),\\n                              )\\n                              \\n#net.fc = nn.Linear(1000, 11)\\nnet = net.to(device) \\nprint(net)\\n'"
      ]
     },
     "execution_count": 7,
     "metadata": {},
     "output_type": "execute_result"
    }
   ],
   "source": [
    "# Freeze parameters so we don't backprop through them\n",
    "'''\n",
    "for param in net.parameters():\n",
    "    param.requires_grad = False\n",
    "\n",
    "net.classifier = nn.Sequential(nn.Linear(25088,4096),\n",
    "                               nn.LeakyReLU(),\n",
    "                               nn.Linear(4096,512),\n",
    "                               nn.LeakyReLU(),\n",
    "                               nn.Linear(512,128),\n",
    "                               nn.LeakyReLU(),\n",
    "                               nn.Linear(128,11),\n",
    "                              )\n",
    "                              \n",
    "#net.fc = nn.Linear(1000, 11)\n",
    "net = net.to(device) \n",
    "print(net)\n",
    "'''"
   ]
  },
  {
   "cell_type": "markdown",
   "metadata": {},
   "source": [
    "Ignore warning"
   ]
  },
  {
   "cell_type": "code",
   "execution_count": 7,
   "metadata": {},
   "outputs": [],
   "source": [
    "from PIL import Image\n",
    "\n",
    "Image.MAX_IMAGE_PIXELS = None"
   ]
  },
  {
   "cell_type": "markdown",
   "metadata": {},
   "source": [
    "Define criterion and Optimize"
   ]
  },
  {
   "cell_type": "code",
   "execution_count": 8,
   "metadata": {},
   "outputs": [],
   "source": [
    "learning_rate = 0.001\n",
    "criterion = nn.CrossEntropyLoss() #定義損失函數\n",
    "#optimizer = torch.optim.Adam(net.parameters(), lr=learning_rate)\n",
    "optimizer = torch.optim.Adam(net.parameters(), lr=learning_rate, betas=[0.9, 0.999]) #定優化函數\n",
    "#optimizer = optim.SGD(net.parameters(), lr=learning_rate, momentum=0.9, weight_decay=1e-3)"
   ]
  },
  {
   "cell_type": "markdown",
   "metadata": {},
   "source": [
    "Train"
   ]
  },
  {
   "cell_type": "code",
   "execution_count": 12,
   "metadata": {},
   "outputs": [
    {
     "name": "stdout",
     "output_type": "stream",
     "text": [
      "[1,   200] train_loss: 0.962\n",
      "[1,   200] validation_loss: 1.212\n",
      "[1,   200] evaluation_loss: 1.101\n",
      "1 epoch, training accuracy: 0.6965\n",
      "1 epoch, validation accuracy: 0.6242\n",
      "1 epoch, evaluation accuracy: 0.6534\n",
      "Class 0 : 79/368      0.214674%\n",
      "Class 1 : 101/148      0.682432%\n",
      "Class 2 : 175/500      0.350000%\n",
      "Class 3 : 374/335      1.116418%\n",
      "Class 4 : 191/287      0.665505%\n",
      "Class 5 : 132/432      0.305556%\n",
      "Class 6 : 349/147      2.374150%\n",
      "Class 7 : 85/96      0.885417%\n",
      "Class 8 : 66/303      0.217822%\n",
      "Class 9 : 193/500      0.386000%\n",
      "Class 10 : 442/231      1.913420%\n",
      "3347\n",
      "-----------------------------------------\n",
      "[2,   200] train_loss: 0.855\n",
      "[2,   200] validation_loss: 0.906\n",
      "[2,   200] evaluation_loss: 0.838\n",
      "2 epoch, training accuracy: 0.7298\n",
      "2 epoch, validation accuracy: 0.7117\n",
      "2 epoch, evaluation accuracy: 0.7293\n",
      "Class 0 : 199/368      0.540761%\n",
      "Class 1 : 108/148      0.729730%\n",
      "Class 2 : 201/500      0.402000%\n",
      "Class 3 : 213/335      0.635821%\n",
      "Class 4 : 204/287      0.710801%\n",
      "Class 5 : 245/432      0.567130%\n",
      "Class 6 : 382/147      2.598639%\n",
      "Class 7 : 138/96      1.437500%\n",
      "Class 8 : 88/303      0.290429%\n",
      "Class 9 : 226/500      0.452000%\n",
      "Class 10 : 437/231      1.891775%\n",
      "3347\n",
      "-----------------------------------------\n",
      "[3,   200] train_loss: 0.757\n",
      "[3,   200] validation_loss: 1.225\n",
      "[3,   200] evaluation_loss: 1.106\n",
      "3 epoch, training accuracy: 0.7638\n",
      "3 epoch, validation accuracy: 0.6519\n",
      "3 epoch, evaluation accuracy: 0.6770\n",
      "Class 0 : 176/368      0.478261%\n",
      "Class 1 : 64/148      0.432432%\n",
      "Class 2 : 209/500      0.418000%\n",
      "Class 3 : 237/335      0.707463%\n",
      "Class 4 : 306/287      1.066202%\n",
      "Class 5 : 212/432      0.490741%\n",
      "Class 6 : 285/147      1.938776%\n",
      "Class 7 : 140/96      1.458333%\n",
      "Class 8 : 77/303      0.254125%\n",
      "Class 9 : 132/500      0.264000%\n",
      "Class 10 : 428/231      1.852814%\n",
      "3347\n",
      "-----------------------------------------\n"
     ]
    },
    {
     "ename": "KeyboardInterrupt",
     "evalue": "",
     "output_type": "error",
     "traceback": [
      "\u001b[0;31m---------------------------------------------------------------------------\u001b[0m",
      "\u001b[0;31mKeyboardInterrupt\u001b[0m                         Traceback (most recent call last)",
      "\u001b[0;32m<ipython-input-12-790120726f6b>\u001b[0m in \u001b[0;36m<module>\u001b[0;34m\u001b[0m\n\u001b[1;32m     49\u001b[0m \u001b[0;34m\u001b[0m\u001b[0m\n\u001b[1;32m     50\u001b[0m         \u001b[0;31m# print statistics\u001b[0m\u001b[0;34m\u001b[0m\u001b[0;34m\u001b[0m\u001b[0;34m\u001b[0m\u001b[0m\n\u001b[0;32m---> 51\u001b[0;31m         \u001b[0mtrain_loss\u001b[0m \u001b[0;34m+=\u001b[0m \u001b[0mloss\u001b[0m\u001b[0;34m.\u001b[0m\u001b[0mitem\u001b[0m\u001b[0;34m(\u001b[0m\u001b[0;34m)\u001b[0m\u001b[0;34m\u001b[0m\u001b[0;34m\u001b[0m\u001b[0m\n\u001b[0m\u001b[1;32m     52\u001b[0m         \u001b[0mtrain_num\u001b[0m \u001b[0;34m+=\u001b[0m \u001b[0;36m1\u001b[0m\u001b[0;34m\u001b[0m\u001b[0;34m\u001b[0m\u001b[0m\n\u001b[1;32m     53\u001b[0m \u001b[0;34m\u001b[0m\u001b[0m\n",
      "\u001b[0;31mKeyboardInterrupt\u001b[0m: "
     ]
    }
   ],
   "source": [
    "net.train()\n",
    "num_epoch = 200\n",
    "run_epoch = 0\n",
    "t_loss = []\n",
    "v_loss = []\n",
    "training_accuracy = []\n",
    "validation_accuracy = []\n",
    "total = 0\n",
    "\n",
    "for epoch in range(200):  # loop over the dataset multiple times\n",
    "    train_loss = 0.0\n",
    "    validation_loss = 0.0\n",
    "    test_loss = 0.0\n",
    "    correct_train = 0\n",
    "    correct_validation = 0\n",
    "    correct_test = 0\n",
    "    train_num = 0\n",
    "    val_num = 0\n",
    "    test_num = 0\n",
    "    cls = []\n",
    "\n",
    "    for i in range(11):\n",
    "        cls.append(0)\n",
    "    \n",
    "    ########################\n",
    "    # train the model      #\n",
    "    ########################\n",
    "    \n",
    "    net.train()\n",
    "    for i, (inputs, labels) in enumerate(trainloader, 0):\n",
    "        \n",
    "        #change the type into cuda tensor \n",
    "        inputs = inputs.to(device) \n",
    "        labels = labels.to(device) \n",
    "\n",
    "        # zero the parameter gradients\n",
    "        optimizer.zero_grad()\n",
    "\n",
    "        # forward + backward + optimize\n",
    "        outputs = net(inputs)\n",
    "        # select the class with highest probability\n",
    "        _, pred = outputs.max(1)\n",
    "        # if the model predicts the same results as the true\n",
    "        # label, then the correct counter will plus 1\n",
    "        correct_train += pred.eq(labels).sum().item()\n",
    "        loss = criterion(outputs, labels)\n",
    "        loss.backward()\n",
    "        optimizer.step()\n",
    "        \n",
    "        # print statistics\n",
    "        train_loss += loss.item()\n",
    "        train_num += 1\n",
    "   \n",
    "\n",
    "        \n",
    "    ########################\n",
    "    # validate the model   #\n",
    "    ########################\n",
    "    \n",
    "    net.eval()\n",
    "    for i, (inputs, labels) in enumerate(validationloader, 0):\n",
    "        # move tensors to GPU if CUDA is available\n",
    "        inputs = inputs.to(device) \n",
    "        labels = labels.to(device)\n",
    "        # forward pass: compute predicted outputs by passing inputs to the model\n",
    "        outputs = net(inputs)\n",
    "        _, pred = outputs.max(1)\n",
    "        correct_validation += pred.eq(labels).sum().item()\n",
    "        # calculate the batch loss\n",
    "        loss = criterion(outputs, labels)\n",
    "        # update average validation loss \n",
    "        validation_loss += loss.item()\n",
    "        val_num += 1\n",
    "        \n",
    "    ########################\n",
    "    # evaluate the model   #\n",
    "    ########################\n",
    "    \n",
    "\n",
    "    for i, (inputs, labels) in enumerate(testloader, 0):\n",
    "        # move tensors to GPU if CUDA is available\n",
    "        inputs = inputs.to(device) \n",
    "        labels = labels.to(device)\n",
    "        # forward pass: compute predicted outputs by passing inputs to the model\n",
    "        outputs = net(inputs)\n",
    "        _, pred = outputs.max(1)\n",
    "        correct_test += pred.eq(labels).sum().item()\n",
    "        # calculate the batch loss\n",
    "        loss = criterion(outputs, labels)\n",
    "        # update average validation loss \n",
    "        test_loss += loss.item()\n",
    "        test_num += 1\n",
    "        total += labels.size(0)\n",
    "\n",
    "        cls[0] += (pred.eq(0) * pred.eq(labels)).sum().item()\n",
    "        cls[1] += (pred.eq(1) * pred.eq(labels)).sum().item()\n",
    "        cls[2] += (pred.eq(2) * pred.eq(labels)).sum().item()\n",
    "        cls[3] += (pred.eq(3) * pred.eq(labels)).sum().item()\n",
    "        cls[4] += (pred.eq(4) * pred.eq(labels)).sum().item()\n",
    "        cls[5] += (pred.eq(5) * pred.eq(labels)).sum().item()\n",
    "        cls[6] += (pred.eq(6) * pred.eq(labels)).sum().item()\n",
    "        cls[7] += (pred.eq(7) * pred.eq(labels)).sum().item()\n",
    "        cls[8] += (pred.eq(8) * pred.eq(labels)).sum().item()\n",
    "        cls[9] += (pred.eq(9) * pred.eq(labels)).sum().item()\n",
    "        cls[10] += (pred.eq(10) * pred.eq(labels)).sum().item()\n",
    "        \n",
    "    if epoch % 1 == 0:    # print every 200 mini-batches\n",
    "        print('[%d, %5d] train_loss: %.3f' % (epoch + 1, num_epoch, train_loss / train_num))\n",
    "        print('[%d, %5d] validation_loss: %.3f' % (epoch + 1, num_epoch, validation_loss / val_num))\n",
    "        print('[%d, %5d] evaluation_loss: %.3f' % (epoch + 1, num_epoch, test_loss / test_num))\n",
    "        print('%d epoch, training accuracy: %.4f' % (epoch + 1, correct_train / len(trainset)))\n",
    "        print('%d epoch, validation accuracy: %.4f' % (epoch + 1, correct_validation / len(validationset)))\n",
    "        print('%d epoch, evaluation accuracy: %.4f' % (epoch + 1, correct_test / len(testset)))\n",
    "        print('Class 0 : %d/%d    %10f%%' % (cls[0], 368, cls[0]/368))\n",
    "        print('Class 1 : %d/%d    %10f%%' % (cls[1], 148, cls[1]/148))\n",
    "        print('Class 2 : %d/%d    %10f%%' % (cls[2], 500, cls[2]/500))\n",
    "        print('Class 3 : %d/%d    %10f%%' % (cls[3], 335, cls[3]/335))\n",
    "        print('Class 4 : %d/%d    %10f%%' % (cls[4], 287, cls[4]/287))\n",
    "        print('Class 5 : %d/%d    %10f%%' % (cls[5], 432, cls[5]/432))\n",
    "        print('Class 6 : %d/%d    %10f%%' % (cls[6], 147, cls[6]/147))\n",
    "        print('Class 7 : %d/%d    %10f%%' % (cls[7], 96, cls[7]/96))\n",
    "        print('Class 8 : %d/%d    %10f%%' % (cls[8], 303, cls[8]/303))\n",
    "        print('Class 9 : %d/%d    %10f%%' % (cls[9], 500, cls[9]/500))\n",
    "        print('Class 10 : %d/%d    %10f%%' % (cls[10], 231, cls[10]/231))\n",
    "        print(total)\n",
    "        print('-----------------------------------------')\n",
    "        \n",
    "        t_loss.append(train_loss / train_num)\n",
    "        v_loss.append(test_loss / test_num)\n",
    "        training_accuracy.append(correct_train / len(trainset))\n",
    "        validation_accuracy.append(correct_validation / len(validationset))\n",
    "        running_loss = 0.0\n",
    "        validation_loss = 0.0\n",
    "        test_loss = 0.0\n",
    "        train_num = 0\n",
    "        val_num = 0\n",
    "        test_num = 0\n",
    "        correct_train = 0\n",
    "        correct_validation = 0\n",
    "        correct_test = 0\n",
    "        total = 0\n",
    "        run_epoch += 1\n",
    "        \n",
    "        for i in range(11):\n",
    "            cls[i] = 0\n",
    "        torch.save(net.state_dict(), './vgg16/' + str(epoch) + '.pth')\n",
    "    \n",
    "print('Finished Training')"
   ]
  },
  {
   "cell_type": "markdown",
   "metadata": {},
   "source": [
    "Test and validation"
   ]
  },
  {
   "cell_type": "code",
   "execution_count": 89,
   "metadata": {},
   "outputs": [],
   "source": [
    "pretrain_net = reload_net().to(device)\n",
    "test_loss = 0.0\n",
    "correct_test = 0\n",
    "test_num = 0\n",
    "cls = np.zeros(11)\n",
    "correct_top3 = 0"
   ]
  },
  {
   "cell_type": "code",
   "execution_count": 90,
   "metadata": {},
   "outputs": [
    {
     "name": "stderr",
     "output_type": "stream",
     "text": [
      "/home/s1041549/anaconda3/envs/dlsystem/lib/python3.7/site-packages/PIL/Image.py:2766: DecompressionBombWarning: Image size (91049764 pixels) exceeds limit of 89478485 pixels, could be decompression bomb DOS attack.\n",
      "  DecompressionBombWarning,\n"
     ]
    }
   ],
   "source": [
    "pretrain_net.eval()\n",
    "for i, (inputs, labels) in enumerate(testloader, 0):\n",
    "    # move tensors to GPU if CUDA is available\n",
    "    inputs = inputs.to(device) \n",
    "    labels = labels.to(device)\n",
    "    # forward pass: compute predicted outputs by passing inputs to the model\n",
    "    outputs = pretrain_net(inputs)\n",
    "    _, pred = outputs.max(1)\n",
    "    correct_test += pred.eq(labels).sum().item()\n",
    "    _, top3 = outputs.topk(3)\n",
    "    correct_top3 += top3.eq(labels.view(-1,1).expand_as(top3)).sum().item()\n",
    "    \n",
    "    cls[0] += (pred.eq(0) * pred.eq(labels)).sum().item()\n",
    "    cls[1] += (pred.eq(1) * pred.eq(labels)).sum().item()\n",
    "    cls[2] += (pred.eq(2) * pred.eq(labels)).sum().item()\n",
    "    cls[3] += (pred.eq(3) * pred.eq(labels)).sum().item()\n",
    "    cls[4] += (pred.eq(4) * pred.eq(labels)).sum().item()\n",
    "    cls[5] += (pred.eq(5) * pred.eq(labels)).sum().item()\n",
    "    cls[6] += (pred.eq(6) * pred.eq(labels)).sum().item()\n",
    "    cls[7] += (pred.eq(7) * pred.eq(labels)).sum().item()\n",
    "    cls[8] += (pred.eq(8) * pred.eq(labels)).sum().item()\n",
    "    cls[9] += (pred.eq(9) * pred.eq(labels)).sum().item()\n",
    "    cls[10] += (pred.eq(10) * pred.eq(labels)).sum().item()"
   ]
  },
  {
   "cell_type": "markdown",
   "metadata": {},
   "source": [
    "This class is not correspond the cls index. For example class 9 is in cls[10]."
   ]
  },
  {
   "cell_type": "code",
   "execution_count": 93,
   "metadata": {},
   "outputs": [
    {
     "name": "stdout",
     "output_type": "stream",
     "text": [
      "Test set: Top 1 Accuracy: 2795/3347 (83.51%), Top 3 Accuracy: 3200/3347 (95.61%)\n",
      "Class 0 : 302/368      0.820652%\n",
      "Class 1 : 101/148      0.682432%\n",
      "Class 2 : 349/500      0.698000%\n",
      "Class 3 : 271/335      0.808955%\n",
      "Class 4 : 254/287      0.885017%\n",
      "Class 5 : 359/432      0.831019%\n",
      "Class 6 : 142/147      0.965986%\n",
      "Class 7 : 86/96      0.895833%\n",
      "Class 8 : 252/303      0.831683%\n",
      "Class 9 : 476/500      0.952000%\n",
      "Class 10 : 203/231      0.878788%\n",
      "-----------------------------------------\n"
     ]
    }
   ],
   "source": [
    "print('Test set: Top 1 Accuracy: %d/3347 (%.2f%%), Top 3 Accuracy: %d/3347 (%.2f%%)' \n",
    "      % (correct_test, correct_test / len(testset)*100, correct_top3, correct_top3/ len(testset)*100))\n",
    "print('Class 0 : %d/%d    %10f%%' % (cls[0], 368, cls[0]/368))\n",
    "print('Class 1 : %d/%d    %10f%%' % (cls[1], 148, cls[1]/148))\n",
    "print('Class 2 : %d/%d    %10f%%' % (cls[3], 500, cls[3]/500))\n",
    "print('Class 3 : %d/%d    %10f%%' % (cls[4], 335, cls[4]/335))\n",
    "print('Class 4 : %d/%d    %10f%%' % (cls[5], 287, cls[5]/287))\n",
    "print('Class 5 : %d/%d    %10f%%' % (cls[6], 432, cls[6]/432))\n",
    "print('Class 6 : %d/%d    %10f%%' % (cls[7], 147, cls[7]/147))\n",
    "print('Class 7 : %d/%d    %10f%%' % (cls[8], 96, cls[8]/96))\n",
    "print('Class 8 : %d/%d    %10f%%' % (cls[9], 303, cls[9]/303))\n",
    "print('Class 9 : %d/%d    %10f%%' % (cls[10], 500, cls[10]/500))\n",
    "print('Class 10 : %d/%d    %10f%%' % (cls[2], 231, cls[2]/231))\n",
    "print('-----------------------------------------')"
   ]
  },
  {
   "cell_type": "code",
   "execution_count": 18,
   "metadata": {},
   "outputs": [
    {
     "data": {
      "image/png": "[encoded data removed]",
      "text/plain": [
       "<Figure size 432x288 with 1 Axes>"
      ]
     },
     "metadata": {
      "needs_background": "light"
     },
     "output_type": "display_data"
    },
    {
     "data": {
      "image/png": "[encoded data removed]",
      "text/plain": [
       "<Figure size 432x288 with 1 Axes>"
      ]
     },
     "metadata": {
      "needs_background": "light"
     },
     "output_type": "display_data"
    }
   ],
   "source": [
    "# visualization\n",
    "import matplotlib.pyplot as plt\n",
    "\n",
    "plt.plot(range(run_epoch), t_loss, 'b-', label='Training_loss')\n",
    "plt.plot(range(run_epoch), v_loss, 'g-', label='validation_loss')\n",
    "plt.title('Training & Validation loss')\n",
    "plt.xlabel('Number of epochs')\n",
    "plt.ylabel('Loss')\n",
    "plt.legend()\n",
    "plt.show()\n",
    "plt.plot(range(run_epoch), training_accuracy, 'b-', label='Training_accuracy')\n",
    "plt.plot(range(run_epoch), validation_accuracy, 'g-', label='Validation_accuracy')\n",
    "plt.title('Training & Validation accuracy')\n",
    "plt.xlabel('Number of epochs')\n",
    "plt.ylabel('Accuracy')\n",
    "plt.legend()\n",
    "plt.show()"
   ]
  },
  {
   "cell_type": "code",
   "execution_count": 16,
   "metadata": {},
   "outputs": [
    {
     "data": {
      "text/plain": [
       "[range(0, 2)]"
      ]
     },
     "execution_count": 16,
     "metadata": {},
     "output_type": "execute_result"
    }
   ],
   "source": [
    "[range(2)]"
   ]
  },
  {
   "cell_type": "code",
   "execution_count": null,
   "metadata": {},
   "outputs": [],
   "source": []
  }
 ],
 "metadata": {
  "kernelspec": {
   "display_name": "Python 3",
   "language": "python",
   "name": "python3"
  },
  "language_info": {
   "codemirror_mode": {
    "name": "ipython",
    "version": 3
   },
   "file_extension": ".py",
   "mimetype": "text/x-python",
   "name": "python",
   "nbconvert_exporter": "python",
   "pygments_lexer": "ipython3",
   "version": "3.7.6"
  }
 },
 "nbformat": 4,
 "nbformat_minor": 4
}
